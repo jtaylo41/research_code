{
 "cells": [
  {
   "cell_type": "code",
   "execution_count": 10,
   "id": "fd062ee9",
   "metadata": {},
   "outputs": [],
   "source": [
    "import imageio.v2 as imageio\n",
    "images = []\n",
    "\n",
    "filepath = '/Users/tita6191/Documents/Research/wrf_outputs/ET_smoothed/'\n",
    "filenames = ['20_22','20_23',\\\n",
    "                '21_00','21_01','21_02','21_03','21_04','21_05','21_06','21_07','21_08','21_09','21_10','21_11',\\\n",
    "                '21_12','21_13','21_14','21_15','21_16','21_17','21_18','21_19','21_20','21_21','21_22','21_23',\\\n",
    "                '22_00','22_01','22_02','22_03','22_04','22_05','22_06','22_07','22_08','22_09','22_10']\n",
    "\n",
    "# Loop through all images, make a gif\n",
    "for filename in filenames:\n",
    "    images.append(imageio.imread(filepath + \"2020-10-\" + filename + \".png\"))\n",
    "imageio.mimsave(filepath + 'skewT_ET_smooth_sim.gif', images, duration=0.2)"
   ]
  },
  {
   "cell_type": "code",
   "execution_count": null,
   "id": "6091b016",
   "metadata": {},
   "outputs": [],
   "source": []
  }
 ],
 "metadata": {
  "kernelspec": {
   "display_name": "animation",
   "language": "python",
   "name": "animation"
  },
  "language_info": {
   "codemirror_mode": {
    "name": "ipython",
    "version": 3
   },
   "file_extension": ".py",
   "mimetype": "text/x-python",
   "name": "python",
   "nbconvert_exporter": "python",
   "pygments_lexer": "ipython3",
   "version": "3.10.4"
  }
 },
 "nbformat": 4,
 "nbformat_minor": 5
}
