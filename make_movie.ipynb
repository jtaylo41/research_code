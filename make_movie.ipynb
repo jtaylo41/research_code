{
 "cells": [
  {
   "cell_type": "code",
   "execution_count": null,
   "metadata": {},
   "outputs": [],
   "source": [
    "# Loop through all images, make a gif\n",
    "\n",
    "def make_movie(directory_path, filenames = None, gif_title = \"movie.gif\", ext = \".png\", delay = 0.25):\n",
    "    import imageio.v2 as imageio\n",
    "    import os\n",
    "\n",
    "    images = []\n",
    "    \n",
    "    if filenames == None:\n",
    "        for file in os.listdir(directory_path):\n",
    "            if file.endswith(ext):\n",
    "                print(os.path.join(directory_path, file))\n",
    "                images.append(imageio.imread(directory_path + file + ext))\n",
    "                \n",
    "    else:\n",
    "        for file in filenames:\n",
    "            images.append(imageio.imread(directory_path + file + ext))\n",
    "            \n",
    "    imageio.mimsave(filepath + gif_title, images, duration = delay)"
   ]
  },
  {
   "cell_type": "code",
   "execution_count": null,
   "metadata": {},
   "outputs": [],
   "source": [
    "filepath = '/Users/tita6191/Documents/Research/wrf_outputs/ET_smoothed/'\n",
    "files = ['20_22','20_23',\\\n",
    "               '21_00','21_01','21_02','21_03','21_04','21_05','21_06','21_07','21_08','21_09','21_10','21_11',\\\n",
    "               '21_12','21_13','21_14','21_15','21_16','21_17','21_18','21_19','21_20','21_21','21_22','21_23',\\\n",
    "               '22_00','22_01','22_02','22_03','22_04','22_05','22_06','22_07','22_08','22_09','22_10']\n",
    "\n",
    "make_movie(filepath, filenames = files, gif_title = \"movie1.gif\")\n",
    "make_movie(filepath, gif_title = \"movie2.gif\")"
   ]
  }
 ],
 "metadata": {
  "kernelspec": {
   "display_name": "animation",
   "language": "python",
   "name": "animation"
  },
  "language_info": {
   "codemirror_mode": {
    "name": "ipython",
    "version": 3
   },
   "file_extension": ".py",
   "mimetype": "text/x-python",
   "name": "python",
   "nbconvert_exporter": "python",
   "pygments_lexer": "ipython3",
   "version": "3.10.4"
  }
 },
 "nbformat": 4,
 "nbformat_minor": 5
}
